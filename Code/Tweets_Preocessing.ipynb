{
 "cells": [
  {
   "cell_type": "code",
   "execution_count": 1,
   "metadata": {},
   "outputs": [],
   "source": [
    "import re\n",
    "import pandas as pd\n",
    "from nltk.corpus import stopwords\n",
    "from wordcloud import WordCloud, STOPWORDS\n",
    "import spacy"
   ]
  },
  {
   "cell_type": "code",
   "execution_count": 2,
   "metadata": {},
   "outputs": [
    {
     "data": {
      "text/html": [
       "<div>\n",
       "<style scoped>\n",
       "    .dataframe tbody tr th:only-of-type {\n",
       "        vertical-align: middle;\n",
       "    }\n",
       "\n",
       "    .dataframe tbody tr th {\n",
       "        vertical-align: top;\n",
       "    }\n",
       "\n",
       "    .dataframe thead th {\n",
       "        text-align: right;\n",
       "    }\n",
       "</style>\n",
       "<table border=\"1\" class=\"dataframe\">\n",
       "  <thead>\n",
       "    <tr style=\"text-align: right;\">\n",
       "      <th></th>\n",
       "      <th>Unnamed: 0</th>\n",
       "      <th>created_at</th>\n",
       "      <th>id</th>\n",
       "      <th>id_str</th>\n",
       "      <th>text</th>\n",
       "      <th>source</th>\n",
       "      <th>truncated</th>\n",
       "      <th>in_reply_to_status_id</th>\n",
       "      <th>in_reply_to_status_id_str</th>\n",
       "      <th>in_reply_to_user_id</th>\n",
       "      <th>...</th>\n",
       "      <th>lang</th>\n",
       "      <th>timestamp_ms</th>\n",
       "      <th>display_text_range</th>\n",
       "      <th>extended_tweet</th>\n",
       "      <th>quoted_status_id</th>\n",
       "      <th>quoted_status_id_str</th>\n",
       "      <th>quoted_status</th>\n",
       "      <th>quoted_status_permalink</th>\n",
       "      <th>extended_entities</th>\n",
       "      <th>withheld_in_countries</th>\n",
       "    </tr>\n",
       "  </thead>\n",
       "  <tbody>\n",
       "    <tr>\n",
       "      <th>0</th>\n",
       "      <td>0</td>\n",
       "      <td>Fri Mar 26 16:22:19 +0000 2021</td>\n",
       "      <td>1375483261326135303</td>\n",
       "      <td>1375483261326135303</td>\n",
       "      <td>RT @lesleyanngreen: 50 NOT OUT!!! https://t.co...</td>\n",
       "      <td>&lt;a href=\"https://mobile.twitter.com\" rel=\"nofo...</td>\n",
       "      <td>False</td>\n",
       "      <td>NaN</td>\n",
       "      <td>NaN</td>\n",
       "      <td>NaN</td>\n",
       "      <td>...</td>\n",
       "      <td>en</td>\n",
       "      <td>1616775739400</td>\n",
       "      <td>NaN</td>\n",
       "      <td>NaN</td>\n",
       "      <td>NaN</td>\n",
       "      <td>NaN</td>\n",
       "      <td>NaN</td>\n",
       "      <td>NaN</td>\n",
       "      <td>NaN</td>\n",
       "      <td>NaN</td>\n",
       "    </tr>\n",
       "    <tr>\n",
       "      <th>1</th>\n",
       "      <td>1</td>\n",
       "      <td>Fri Mar 26 16:22:19 +0000 2021</td>\n",
       "      <td>1375483261334478851</td>\n",
       "      <td>1375483261334478851</td>\n",
       "      <td>@m_plaszczyk @kowalski_cezary Poza tym rzuć ok...</td>\n",
       "      <td>&lt;a href=\"http://twitter.com/download/android\" ...</td>\n",
       "      <td>True</td>\n",
       "      <td>1.375483e+18</td>\n",
       "      <td>1.375483e+18</td>\n",
       "      <td>1.238738e+18</td>\n",
       "      <td>...</td>\n",
       "      <td>pl</td>\n",
       "      <td>1616775739402</td>\n",
       "      <td>[30, 140]</td>\n",
       "      <td>{'full_text': '@m_plaszczyk @kowalski_cezary P...</td>\n",
       "      <td>NaN</td>\n",
       "      <td>NaN</td>\n",
       "      <td>NaN</td>\n",
       "      <td>NaN</td>\n",
       "      <td>NaN</td>\n",
       "      <td>NaN</td>\n",
       "    </tr>\n",
       "    <tr>\n",
       "      <th>2</th>\n",
       "      <td>2</td>\n",
       "      <td>Fri Mar 26 16:22:19 +0000 2021</td>\n",
       "      <td>1375483261128966147</td>\n",
       "      <td>1375483261128966147</td>\n",
       "      <td>RT @glennkirschner2: LAST CALL to sign the let...</td>\n",
       "      <td>&lt;a href=\"http://twitter.com/download/android\" ...</td>\n",
       "      <td>False</td>\n",
       "      <td>NaN</td>\n",
       "      <td>NaN</td>\n",
       "      <td>NaN</td>\n",
       "      <td>...</td>\n",
       "      <td>en</td>\n",
       "      <td>1616775739353</td>\n",
       "      <td>NaN</td>\n",
       "      <td>NaN</td>\n",
       "      <td>1.361354e+18</td>\n",
       "      <td>1.361354e+18</td>\n",
       "      <td>{'created_at': 'Mon Feb 15 16:38:23 +0000 2021...</td>\n",
       "      <td>{'url': 'https://t.co/ekz7dA1RFY', 'expanded':...</td>\n",
       "      <td>NaN</td>\n",
       "      <td>NaN</td>\n",
       "    </tr>\n",
       "    <tr>\n",
       "      <th>3</th>\n",
       "      <td>3</td>\n",
       "      <td>Fri Mar 26 16:22:19 +0000 2021</td>\n",
       "      <td>1375483261355491336</td>\n",
       "      <td>1375483261355491336</td>\n",
       "      <td>RT @SanjayLokmat: नाशिक महापालिकेच्या वैद्यकीय...</td>\n",
       "      <td>&lt;a href=\"https://twitter.com/nashik_feed\" rel=...</td>\n",
       "      <td>False</td>\n",
       "      <td>NaN</td>\n",
       "      <td>NaN</td>\n",
       "      <td>NaN</td>\n",
       "      <td>...</td>\n",
       "      <td>und</td>\n",
       "      <td>1616775739407</td>\n",
       "      <td>NaN</td>\n",
       "      <td>NaN</td>\n",
       "      <td>NaN</td>\n",
       "      <td>NaN</td>\n",
       "      <td>NaN</td>\n",
       "      <td>NaN</td>\n",
       "      <td>NaN</td>\n",
       "      <td>NaN</td>\n",
       "    </tr>\n",
       "    <tr>\n",
       "      <th>4</th>\n",
       "      <td>4</td>\n",
       "      <td>Fri Mar 26 16:22:19 +0000 2021</td>\n",
       "      <td>1375483261510504448</td>\n",
       "      <td>1375483261510504448</td>\n",
       "      <td>RT @butantanoficial: Um dia histórico. O Butan...</td>\n",
       "      <td>&lt;a href=\"https://mobile.twitter.com\" rel=\"nofo...</td>\n",
       "      <td>False</td>\n",
       "      <td>NaN</td>\n",
       "      <td>NaN</td>\n",
       "      <td>NaN</td>\n",
       "      <td>...</td>\n",
       "      <td>pt</td>\n",
       "      <td>1616775739444</td>\n",
       "      <td>NaN</td>\n",
       "      <td>NaN</td>\n",
       "      <td>NaN</td>\n",
       "      <td>NaN</td>\n",
       "      <td>NaN</td>\n",
       "      <td>NaN</td>\n",
       "      <td>NaN</td>\n",
       "      <td>NaN</td>\n",
       "    </tr>\n",
       "  </tbody>\n",
       "</table>\n",
       "<p>5 rows × 38 columns</p>\n",
       "</div>"
      ],
      "text/plain": [
       "   Unnamed: 0                      created_at                   id  \\\n",
       "0           0  Fri Mar 26 16:22:19 +0000 2021  1375483261326135303   \n",
       "1           1  Fri Mar 26 16:22:19 +0000 2021  1375483261334478851   \n",
       "2           2  Fri Mar 26 16:22:19 +0000 2021  1375483261128966147   \n",
       "3           3  Fri Mar 26 16:22:19 +0000 2021  1375483261355491336   \n",
       "4           4  Fri Mar 26 16:22:19 +0000 2021  1375483261510504448   \n",
       "\n",
       "                id_str                                               text  \\\n",
       "0  1375483261326135303  RT @lesleyanngreen: 50 NOT OUT!!! https://t.co...   \n",
       "1  1375483261334478851  @m_plaszczyk @kowalski_cezary Poza tym rzuć ok...   \n",
       "2  1375483261128966147  RT @glennkirschner2: LAST CALL to sign the let...   \n",
       "3  1375483261355491336  RT @SanjayLokmat: नाशिक महापालिकेच्या वैद्यकीय...   \n",
       "4  1375483261510504448  RT @butantanoficial: Um dia histórico. O Butan...   \n",
       "\n",
       "                                              source  truncated  \\\n",
       "0  <a href=\"https://mobile.twitter.com\" rel=\"nofo...      False   \n",
       "1  <a href=\"http://twitter.com/download/android\" ...       True   \n",
       "2  <a href=\"http://twitter.com/download/android\" ...      False   \n",
       "3  <a href=\"https://twitter.com/nashik_feed\" rel=...      False   \n",
       "4  <a href=\"https://mobile.twitter.com\" rel=\"nofo...      False   \n",
       "\n",
       "   in_reply_to_status_id  in_reply_to_status_id_str  in_reply_to_user_id  ...  \\\n",
       "0                    NaN                        NaN                  NaN  ...   \n",
       "1           1.375483e+18               1.375483e+18         1.238738e+18  ...   \n",
       "2                    NaN                        NaN                  NaN  ...   \n",
       "3                    NaN                        NaN                  NaN  ...   \n",
       "4                    NaN                        NaN                  NaN  ...   \n",
       "\n",
       "   lang   timestamp_ms display_text_range  \\\n",
       "0    en  1616775739400                NaN   \n",
       "1    pl  1616775739402          [30, 140]   \n",
       "2    en  1616775739353                NaN   \n",
       "3   und  1616775739407                NaN   \n",
       "4    pt  1616775739444                NaN   \n",
       "\n",
       "                                      extended_tweet quoted_status_id  \\\n",
       "0                                                NaN              NaN   \n",
       "1  {'full_text': '@m_plaszczyk @kowalski_cezary P...              NaN   \n",
       "2                                                NaN     1.361354e+18   \n",
       "3                                                NaN              NaN   \n",
       "4                                                NaN              NaN   \n",
       "\n",
       "  quoted_status_id_str                                      quoted_status  \\\n",
       "0                  NaN                                                NaN   \n",
       "1                  NaN                                                NaN   \n",
       "2         1.361354e+18  {'created_at': 'Mon Feb 15 16:38:23 +0000 2021...   \n",
       "3                  NaN                                                NaN   \n",
       "4                  NaN                                                NaN   \n",
       "\n",
       "                             quoted_status_permalink  extended_entities  \\\n",
       "0                                                NaN                NaN   \n",
       "1                                                NaN                NaN   \n",
       "2  {'url': 'https://t.co/ekz7dA1RFY', 'expanded':...                NaN   \n",
       "3                                                NaN                NaN   \n",
       "4                                                NaN                NaN   \n",
       "\n",
       "   withheld_in_countries  \n",
       "0                    NaN  \n",
       "1                    NaN  \n",
       "2                    NaN  \n",
       "3                    NaN  \n",
       "4                    NaN  \n",
       "\n",
       "[5 rows x 38 columns]"
      ]
     },
     "execution_count": 2,
     "metadata": {},
     "output_type": "execute_result"
    }
   ],
   "source": [
    "df=pd.read_csv('C:\\\\Users\\\\muppa\\\\covid_data_on_26_03_2021.csv')\n",
    "df.head()"
   ]
  },
  {
   "cell_type": "code",
   "execution_count": 4,
   "metadata": {},
   "outputs": [],
   "source": [
    "df=df[df['lang']=='en']"
   ]
  },
  {
   "cell_type": "code",
   "execution_count": 5,
   "metadata": {},
   "outputs": [],
   "source": [
    "nlp = spacy.load('en_core_web_sm', disable=['parser', 'ner'])"
   ]
  },
  {
   "cell_type": "code",
   "execution_count": 7,
   "metadata": {},
   "outputs": [],
   "source": [
    "df['new_Text'] = df['text'].apply(lambda x: \" \".join(x.lower() for x in x.split()))\n",
    "# df['new_Text'].head()\n"
   ]
  },
  {
   "cell_type": "code",
   "execution_count": 8,
   "metadata": {},
   "outputs": [],
   "source": [
    "def remove_emoji(text):\n",
    "    emoji_pattern = re.compile(\"[\"\n",
    "                           u\"\\U0001F600-\\U0001F64F\"  # emoticons\n",
    "                           u\"\\U0001F300-\\U0001F5FF\"  # symbols & pictographs\n",
    "                           u\"\\U0001F680-\\U0001F6FF\"  # transport & map symbols\n",
    "                           u\"\\U0001F1E0-\\U0001F1FF\"  # flags \n",
    "                           u\"\\U00002702-\\U000027B0\"\n",
    "                           u\"\\U000024C2-\\U0001F251\"\n",
    "                           \"]+\", flags=re.UNICODE)\n",
    "    return emoji_pattern.sub(r'', text)"
   ]
  },
  {
   "cell_type": "code",
   "execution_count": 9,
   "metadata": {},
   "outputs": [],
   "source": [
    "df['new_Text'] = df['text'].apply(lambda x: \" \".join(x.lower() for x in x.split()))\n",
    "df['new_Text'] = df['new_Text'].str.replace('[^\\w\\s]','')\n",
    "df['new_Text'] = df['new_Text'].apply(lambda x: remove_emoji(x))"
   ]
  },
  {
   "cell_type": "code",
   "execution_count": 12,
   "metadata": {},
   "outputs": [],
   "source": [
    "stop = stopwords.words('english')\n",
    "stop_negs = ['but','against','no','nor','not','than','don',\"don't\",\"aren't\",'aren','couldn',\"couldn't\",'didn',\"didn't\",'doesn',\"doesn't\",'hadn',\"hadn't\", 'hasn', \"hasn't\",'haven', \"haven't\", 'isn', \"isn't\", 'mightn', \"mightn't\", 'mustn', \"mustn't\", 'needn', \"needn't\", 'shan', \"shan't\", 'shouldn', \"shouldn't\", 'wasn', \"wasn't\", 'weren', \"weren't\", 'won', \"won't\", 'wouldn', \"wouldn't\"]"
   ]
  },
  {
   "cell_type": "code",
   "execution_count": 13,
   "metadata": {},
   "outputs": [],
   "source": [
    "## Removing the stopwords and http links\n",
    "df['new_Text'] = df['new_Text'].apply(lambda x: \" \".join(x for x in x.split() if x not in stop_negs and x[0:4]!='http'))\n",
    "df['new_Text'] = df['new_Text'].apply(lambda x: re.sub(r\"[1-9]\", \" \", x))\n",
    "def space(comment):\n",
    "    doc = nlp(comment)\n",
    "    return \" \".join([token.lemma_ for token in doc])\n",
    "df['new_Text']= df['new_Text'].apply(space)\n",
    "df['new_Text'] = df['new_Text'].apply(lambda x: re.sub(' +', ' ', x))"
   ]
  },
  {
   "cell_type": "code",
   "execution_count": 14,
   "metadata": {},
   "outputs": [],
   "source": [
    "df['new_Text'] = df['new_Text'].str.replace('[^\\w\\s]','')\n",
    "# df['new_Text'].head()"
   ]
  },
  {
   "cell_type": "code",
   "execution_count": 7,
   "metadata": {},
   "outputs": [],
   "source": [
    "def remove_emoji(text):\n",
    "    emoji_pattern = re.compile(\"[\"\n",
    "                           u\"\\U0001F600-\\U0001F64F\"  # emoticons\n",
    "                           u\"\\U0001F300-\\U0001F5FF\"  # symbols & pictographs\n",
    "                           u\"\\U0001F680-\\U0001F6FF\"  # transport & map symbols\n",
    "                           u\"\\U0001F1E0-\\U0001F1FF\"  # flags \n",
    "                           u\"\\U00002702-\\U000027B0\"\n",
    "                           u\"\\U000024C2-\\U0001F251\"\n",
    "                           \"]+\", flags=re.UNICODE)\n",
    "    return emoji_pattern.sub(r'', text)"
   ]
  },
  {
   "cell_type": "code",
   "execution_count": 8,
   "metadata": {},
   "outputs": [],
   "source": [
    "df['new_Text'] = df['new_Text'].apply(lambda x: remove_emoji(x))"
   ]
  },
  {
   "cell_type": "code",
   "execution_count": 9,
   "metadata": {},
   "outputs": [
    {
     "data": {
      "text/plain": [
       "['on 326 emergesmarter hosted their 1st live consumer roundtable discussion to take a pulse on consumers evolving attitudes and behaviors during the coronavirus pandemic here are five takeaways of what was learned httpstcotc3mcydg7r mrx consumerbehavior coronavirus',\n",
       " 'who would have guessed bacteria from yellowstones hot springs would change the field of molecular biology allowing scientists to manipulate dna  coronavirus science nerd testingforcovid19 httpstcoohnpqxnpgd',\n",
       " 'this mornings newsletter was on how ace2 can easily explain why smoking is associated with a stronger progression of covid19 httpstco9smeiq78p5',\n",
       " 'why is there no longer any data from the us on the johns hopkins covid19 map i dont want to overreact but i suspect some kind of censorship covid19pandemic',\n",
       " 'keeping a routine during covid19 keepgrinding covid19 httpstcozn2yqu1dmd',\n",
       " 'this is good some sunshine in a dark time covid19 httpstcobeapurfvxx',\n",
       " 'jaejoong pulled a prank about covid19 meanwhile changmin httpstcobakhxvfnyd',\n",
       " 'spartak moscow fc players agree to wage cuts amid season shutdown over covid19 httpstcofrwmr9hkxq httpstcom0y0uuetce',\n",
       " 'the head of ausfintech says the government should follow the french idea and start directly investing in startups to help them survive covid19 good idea or not httpstcogml0agilln',\n",
       " 'thank you urotoday for the chance to showcase results of a kccure survey related to kidneycancer patient sentiments around therapy in the era of covid19 drchoueiri neerajaiims pgrivasmdphd httpstcovxfayq8v40']"
      ]
     },
     "execution_count": 9,
     "metadata": {},
     "output_type": "execute_result"
    }
   ],
   "source": [
    "df['new_Text'].head(10).to_list()"
   ]
  },
  {
   "cell_type": "code",
   "execution_count": 10,
   "metadata": {},
   "outputs": [],
   "source": [
    "stop = stopwords.words('english')"
   ]
  },
  {
   "cell_type": "code",
   "execution_count": 11,
   "metadata": {},
   "outputs": [],
   "source": [
    "stop_negs = ['but','against','no','nor','not','than','don',\"don't\",\"aren't\",'aren','couldn',\"couldn't\",'didn',\"didn't\",'doesn',\"doesn't\",'hadn',\"hadn't\", 'hasn', \"hasn't\",'haven', \"haven't\", 'isn', \"isn't\", 'mightn', \"mightn't\", 'mustn', \"mustn't\", 'needn', \"needn't\", 'shan', \"shan't\", 'shouldn', \"shouldn't\", 'wasn', \"wasn't\", 'weren', \"weren't\", 'won', \"won't\", 'wouldn', \"wouldn't\"]"
   ]
  },
  {
   "cell_type": "code",
   "execution_count": 12,
   "metadata": {},
   "outputs": [],
   "source": [
    "stops1=[i for i in stop if i not in stop_negs]"
   ]
  },
  {
   "cell_type": "code",
   "execution_count": 13,
   "metadata": {},
   "outputs": [],
   "source": [
    "## Removing the stopwords and http links\n",
    "df['new_Text'] = df['new_Text'].apply(lambda x: \" \".join(x for x in x.split() if x not in stops1 and x[0:4]!='http'))"
   ]
  },
  {
   "cell_type": "code",
   "execution_count": 14,
   "metadata": {},
   "outputs": [],
   "source": [
    "def space(comment):\n",
    "    doc = nlp(comment)\n",
    "    return \" \".join([token.lemma_ for token in doc])\n",
    "df['new_Text']= df['new_Text'].apply(space)"
   ]
  },
  {
   "cell_type": "code",
   "execution_count": 15,
   "metadata": {},
   "outputs": [],
   "source": [
    "## Removing the number\n",
    "df['new_Text'] = df['new_Text'].apply(lambda x: re.sub(r\"[1-9]\", \" \", x))"
   ]
  },
  {
   "cell_type": "code",
   "execution_count": 17,
   "metadata": {},
   "outputs": [],
   "source": [
    "df['new_Text'] = df['new_Text'].apply(lambda x: re.sub(' +', ' ', x))\n",
    "# re.sub(' +', ' ', 'The     quick brown    fox')"
   ]
  },
  {
   "cell_type": "code",
   "execution_count": 18,
   "metadata": {},
   "outputs": [
    {
     "data": {
      "text/plain": [
       "0     emergesmarter host st live consumer roundtabl...\n",
       "1    would guess bacteria yellowstone hot spring wo...\n",
       "2    morning newsletter ace easily explain smoking ...\n",
       "3    no long data us johns hopkins covid map do not...\n",
       "4               keep routine covid keepgrinding covid \n",
       "Name: new_Text, dtype: object"
      ]
     },
     "execution_count": 18,
     "metadata": {},
     "output_type": "execute_result"
    }
   ],
   "source": [
    "df['new_Text'].head()"
   ]
  },
  {
   "cell_type": "code",
   "execution_count": 15,
   "metadata": {},
   "outputs": [],
   "source": [
    "df.to_csv('tweets_cleaned.csv')"
   ]
  }
 ],
 "metadata": {
  "kernelspec": {
   "display_name": "Python 3",
   "language": "python",
   "name": "python3"
  },
  "language_info": {
   "codemirror_mode": {
    "name": "ipython",
    "version": 3
   },
   "file_extension": ".py",
   "mimetype": "text/x-python",
   "name": "python",
   "nbconvert_exporter": "python",
   "pygments_lexer": "ipython3",
   "version": "3.8.3"
  }
 },
 "nbformat": 4,
 "nbformat_minor": 4
}
